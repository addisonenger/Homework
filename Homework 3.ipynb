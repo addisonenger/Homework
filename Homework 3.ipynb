{
 "cells": [
  {
   "cell_type": "code",
   "execution_count": 1,
   "id": "b6262912",
   "metadata": {},
   "outputs": [],
   "source": [
    "#Question 1"
   ]
  },
  {
   "cell_type": "code",
   "execution_count": 2,
   "id": "d4a4fb8e",
   "metadata": {},
   "outputs": [],
   "source": [
    "marks = {'Andy':88, 'Amy':66, 'James':90, 'Jules':55, 'Arthur':77}"
   ]
  },
  {
   "cell_type": "code",
   "execution_count": 3,
   "id": "66be1ef5",
   "metadata": {},
   "outputs": [],
   "source": [
    "def nameFunc(name):\n",
    "    try:\n",
    "        return marks[name]\n",
    "    except:\n",
    "        print(name+' not found')"
   ]
  },
  {
   "cell_type": "code",
   "execution_count": 4,
   "id": "27e3adb0",
   "metadata": {},
   "outputs": [
    {
     "data": {
      "text/plain": [
       "66"
      ]
     },
     "execution_count": 4,
     "metadata": {},
     "output_type": "execute_result"
    }
   ],
   "source": [
    "nameFunc('Amy')"
   ]
  },
  {
   "cell_type": "code",
   "execution_count": 5,
   "id": "52b486e2",
   "metadata": {
    "scrolled": false
   },
   "outputs": [
    {
     "name": "stdout",
     "output_type": "stream",
     "text": [
      "Bart not found\n"
     ]
    }
   ],
   "source": [
    "nameFunc('Bart')"
   ]
  },
  {
   "cell_type": "code",
   "execution_count": 31,
   "id": "51765286",
   "metadata": {},
   "outputs": [
    {
     "name": "stdout",
     "output_type": "stream",
     "text": [
      "Average Grade: 75.2\n"
     ]
    }
   ],
   "source": [
    "def returnSum(marks):\n",
    "    sum = 0\n",
    "    for i in marks.values():\n",
    "        sum = sum+i\n",
    "    return sum\n",
    "print('Average Grade:',returnSum(marks)/len(marks))\n"
   ]
  },
  {
   "cell_type": "code",
   "execution_count": 6,
   "id": "d4ff4086",
   "metadata": {},
   "outputs": [],
   "source": [
    "#Question 2"
   ]
  },
  {
   "cell_type": "code",
   "execution_count": 7,
   "id": "cd994ec9",
   "metadata": {},
   "outputs": [],
   "source": [
    "num = 8\n",
    "def less_than(x):\n",
    "    while x<num:\n",
    "        return x, x**2\n",
    "    else:\n",
    "        print('Greater than 8')"
   ]
  },
  {
   "cell_type": "code",
   "execution_count": 8,
   "id": "b84b9475",
   "metadata": {},
   "outputs": [
    {
     "data": {
      "text/plain": [
       "(3, 9)"
      ]
     },
     "execution_count": 8,
     "metadata": {},
     "output_type": "execute_result"
    }
   ],
   "source": [
    "less_than(3)"
   ]
  },
  {
   "cell_type": "code",
   "execution_count": 9,
   "id": "912c5245",
   "metadata": {},
   "outputs": [
    {
     "name": "stdout",
     "output_type": "stream",
     "text": [
      "Greater than 8\n"
     ]
    }
   ],
   "source": [
    "less_than(9)"
   ]
  },
  {
   "cell_type": "code",
   "execution_count": 10,
   "id": "8d398548",
   "metadata": {},
   "outputs": [],
   "source": [
    "#Question 3"
   ]
  },
  {
   "cell_type": "code",
   "execution_count": 11,
   "id": "9085887c",
   "metadata": {},
   "outputs": [],
   "source": [
    "def sumFunc(num):\n",
    "    sum = 0\n",
    "    n = 1\n",
    "    while n <= num:\n",
    "        sum += n\n",
    "        n+=1\n",
    "    return sum"
   ]
  },
  {
   "cell_type": "code",
   "execution_count": 12,
   "id": "c73bf8df",
   "metadata": {},
   "outputs": [
    {
     "data": {
      "text/plain": [
       "45"
      ]
     },
     "execution_count": 12,
     "metadata": {},
     "output_type": "execute_result"
    }
   ],
   "source": [
    "sumFunc(9)"
   ]
  },
  {
   "cell_type": "code",
   "execution_count": 13,
   "id": "addf4cad",
   "metadata": {},
   "outputs": [],
   "source": [
    "#Question 4"
   ]
  },
  {
   "cell_type": "code",
   "execution_count": 14,
   "id": "db93f66d",
   "metadata": {},
   "outputs": [],
   "source": [
    "def total(num):\n",
    "    sum = 0\n",
    "    n = 1\n",
    "    for n in range(num):\n",
    "        if 0 < n <= num:\n",
    "            sum+=n\n",
    "            print(sum)\n",
    "            num+=1"
   ]
  },
  {
   "cell_type": "code",
   "execution_count": 15,
   "id": "b6a16791",
   "metadata": {
    "scrolled": true
   },
   "outputs": [
    {
     "name": "stdout",
     "output_type": "stream",
     "text": [
      "1\n",
      "3\n",
      "6\n",
      "10\n",
      "15\n",
      "21\n"
     ]
    }
   ],
   "source": [
    "total(7)"
   ]
  },
  {
   "cell_type": "code",
   "execution_count": 16,
   "id": "435b5166",
   "metadata": {},
   "outputs": [],
   "source": [
    "#Question 5"
   ]
  },
  {
   "cell_type": "code",
   "execution_count": 3,
   "id": "0e1a90ec",
   "metadata": {
    "scrolled": true
   },
   "outputs": [
    {
     "name": "stdout",
     "output_type": "stream",
     "text": [
      "Sum: 4950\n",
      "Average: 49.5\n"
     ]
    }
   ],
   "source": [
    "sum = 0\n",
    "n = 1\n",
    "\n",
    "for val in range(1,100):\n",
    "    sum+=val\n",
    "    avg=sum/100\n",
    "\n",
    "print('Sum:', sum)\n",
    "print('Average:',avg)"
   ]
  },
  {
   "cell_type": "code",
   "execution_count": 26,
   "id": "79d65ef5",
   "metadata": {},
   "outputs": [
    {
     "name": "stdout",
     "output_type": "stream",
     "text": [
      "Stand. Dev.: 28.722813232690143\n"
     ]
    }
   ],
   "source": [
    "import statistics as stats\n",
    "print('Stand. Dev.:',stats.stdev(range(1,100)))"
   ]
  },
  {
   "cell_type": "code",
   "execution_count": null,
   "id": "e45030b9",
   "metadata": {},
   "outputs": [],
   "source": [
    "#Question 6"
   ]
  },
  {
   "cell_type": "code",
   "execution_count": 1,
   "id": "95a092c5",
   "metadata": {},
   "outputs": [],
   "source": [
    "def minimum(v1, v2, v3, v4):\n",
    "    minimum = v1\n",
    "    if v2 < minimum:\n",
    "        minimum = v2\n",
    "    if v3 < minimum:\n",
    "        minimum = v3\n",
    "    if v4 < minimum:\n",
    "        minimum = v4\n",
    "    return minimum"
   ]
  },
  {
   "cell_type": "code",
   "execution_count": 2,
   "id": "b20cafc9",
   "metadata": {},
   "outputs": [
    {
     "data": {
      "text/plain": [
       "1"
      ]
     },
     "execution_count": 2,
     "metadata": {},
     "output_type": "execute_result"
    }
   ],
   "source": [
    "minimum(3,1,23,29)"
   ]
  },
  {
   "cell_type": "code",
   "execution_count": 3,
   "id": "29454ebf",
   "metadata": {},
   "outputs": [
    {
     "data": {
      "text/plain": [
       "4"
      ]
     },
     "execution_count": 3,
     "metadata": {},
     "output_type": "execute_result"
    }
   ],
   "source": [
    "minimum(40,23,8,4)"
   ]
  },
  {
   "cell_type": "code",
   "execution_count": 6,
   "id": "fcac6dcc",
   "metadata": {},
   "outputs": [],
   "source": [
    "#Question 7"
   ]
  },
  {
   "cell_type": "code",
   "execution_count": 23,
   "id": "27bae24e",
   "metadata": {},
   "outputs": [
    {
     "name": "stdout",
     "output_type": "stream",
     "text": [
      "0:gross\n",
      "1:ew\n",
      "2:dumb\n"
     ]
    }
   ],
   "source": [
    "concatenated_list=['gross','ew','dumb']\n",
    "for i in range(len(concatenated_list)):\n",
    "    print(f'{i}:{concatenated_list[i]}')"
   ]
  }
 ],
 "metadata": {
  "kernelspec": {
   "display_name": "Python 3 (ipykernel)",
   "language": "python",
   "name": "python3"
  },
  "language_info": {
   "codemirror_mode": {
    "name": "ipython",
    "version": 3
   },
   "file_extension": ".py",
   "mimetype": "text/x-python",
   "name": "python",
   "nbconvert_exporter": "python",
   "pygments_lexer": "ipython3",
   "version": "3.9.12"
  }
 },
 "nbformat": 4,
 "nbformat_minor": 5
}
