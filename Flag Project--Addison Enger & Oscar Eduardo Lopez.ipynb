{
 "cells": [
  {
   "cell_type": "code",
   "execution_count": 1,
   "id": "b818f568",
   "metadata": {},
   "outputs": [],
   "source": [
    "import turtle as t\n",
    "import time\n",
    "\n",
    "#naming the screen\n",
    "scr = t.getscreen()\n",
    "scr.title('American Flag')\n",
    "scr.bgcolor('tan')"
   ]
  },
  {
   "cell_type": "code",
   "execution_count": 2,
   "id": "18113a32",
   "metadata": {},
   "outputs": [],
   "source": [
    "#setting the speed\n",
    "t.speed(20)\n",
    "t.penup()"
   ]
  },
  {
   "cell_type": "code",
   "execution_count": 3,
   "id": "1aa721a2",
   "metadata": {},
   "outputs": [],
   "source": [
    "#setting flag height, width, and start point \n",
    "flag_h = 250\n",
    "flag_w = 475\n",
    "x1 = -250\n",
    "y1 = 120"
   ]
  },
  {
   "cell_type": "code",
   "execution_count": 4,
   "id": "bd879df7",
   "metadata": {},
   "outputs": [],
   "source": [
    "#setting the sizes of stars and stripes\n",
    "stripe_h = flag_h/13\n",
    "stripe_w = flag_w\n",
    "star_size = 12"
   ]
  },
  {
   "cell_type": "code",
   "execution_count": 5,
   "id": "65f34caf",
   "metadata": {},
   "outputs": [],
   "source": [
    "#shaping the flag\n",
    "def draw_rectangle(x, y, height, width, color):\n",
    "    t.goto(x,y)\n",
    "    t.pendown()\n",
    "    t.color(color)\n",
    "    t.begin_fill()\n",
    "    t.forward(width)\n",
    "    t.right(90)\n",
    "    t.forward(height)\n",
    "    t.right(90)\n",
    "    t.forward(width)\n",
    "    t.right(90)\n",
    "    t.forward(height)\n",
    "    t.right(90)\n",
    "    t.end_fill()\n",
    "    t.penup()"
   ]
  },
  {
   "cell_type": "code",
   "execution_count": 6,
   "id": "26f206a0",
   "metadata": {},
   "outputs": [],
   "source": [
    "#defining the stripes\n",
    "def draw_stripes():\n",
    "    x = x1\n",
    "    y = y1\n",
    "    for stripe in range(0,6):\n",
    "        for color in ['red','white']:\n",
    "            draw_rectangle(x, y, stripe_h, stripe_w, color)\n",
    "            y = y - stripe_h\n",
    "    draw_rectangle(x, y, stripe_h, stripe_w, 'red')\n",
    "    y = y - stripe_h"
   ]
  },
  {
   "cell_type": "code",
   "execution_count": 7,
   "id": "397d9dc0",
   "metadata": {},
   "outputs": [],
   "source": [
    "#defining the blue square\n",
    "def draw_square():\n",
    "    square_h = (7/13)*flag_h\n",
    "    square_w = (.76)*flag_h\n",
    "    draw_rectangle(x1, y1, square_h, square_w, 'navy')"
   ]
  },
  {
   "cell_type": "code",
   "execution_count": 8,
   "id": "8ac0b760",
   "metadata": {},
   "outputs": [],
   "source": [
    "#defining the star shape\n",
    "def star_shape(x, y, color, length):\n",
    "    t.goto(x,y)\n",
    "    t.setheading(0)\n",
    "    t.pendown()\n",
    "    t.fillcolor('white')\n",
    "    t.begin_fill()\n",
    "    t.color('white')\n",
    "    for turn in range(0,5) :\n",
    "        t.forward(length)\n",
    "        t.right(144)\n",
    "        t.forward(length)\n",
    "        t.right(144)\n",
    "    t.end_fill()\n",
    "    t.penup()\n",
    "    \n",
    "#defining a function for drawing a 6 row star\n",
    "def stars1():\n",
    "    dist_btw_stars = 30\n",
    "    dist_btw_lines = stripe_h + 6\n",
    "    y = 112\n",
    "    # create 5 rows of stars\n",
    "    for row in range(0,5) :\n",
    "        x = -234\n",
    "        # create 6 stars in each row\n",
    "        for star in range (0,6) :\n",
    "            star_shape(x, y, 'white', star_size)\n",
    "            x = x + dist_btw_stars\n",
    "        y = y - dist_btw_lines\n",
    "\n",
    "\n",
    "def stars_five():\n",
    "    dist_btw_stars = 30\n",
    "    dist_btw_lines = stripe_h + 6\n",
    "    y = 100\n",
    "    # create 4 rows of stars\n",
    "    for row in range(0,4) :\n",
    "        x = -217\n",
    "        # create 5 stars in each row\n",
    "        for star in range (0,5) :\n",
    "            star_shape(x, y, 'white', star_size)\n",
    "            x = x + dist_btw_stars\n",
    "        y = y - dist_btw_lines"
   ]
  },
  {
   "cell_type": "code",
   "execution_count": 9,
   "id": "9cd2a500",
   "metadata": {},
   "outputs": [],
   "source": [
    "#drawing the flag\n",
    "def main():\n",
    "    time.sleep(5)\n",
    "    draw_stripes()\n",
    "    draw_square()\n",
    "    stars1()\n",
    "    stars_five()\n",
    "    t.hideturtle()\n",
    "    scr.mainloop()\n",
    "if __name__ == '__main__':\n",
    "    main()"
   ]
  },
  {
   "cell_type": "code",
   "execution_count": null,
   "id": "87658c83",
   "metadata": {},
   "outputs": [],
   "source": []
  }
 ],
 "metadata": {
  "kernelspec": {
   "display_name": "Python 3 (ipykernel)",
   "language": "python",
   "name": "python3"
  },
  "language_info": {
   "codemirror_mode": {
    "name": "ipython",
    "version": 3
   },
   "file_extension": ".py",
   "mimetype": "text/x-python",
   "name": "python",
   "nbconvert_exporter": "python",
   "pygments_lexer": "ipython3",
   "version": "3.9.12"
  }
 },
 "nbformat": 4,
 "nbformat_minor": 5
}
