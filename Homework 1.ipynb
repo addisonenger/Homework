{
 "cells": [
  {
   "cell_type": "code",
   "execution_count": 1,
   "id": "0e3b2000",
   "metadata": {
    "scrolled": true
   },
   "outputs": [
    {
     "name": "stdout",
     "output_type": "stream",
     "text": [
      "[30, 35, 40, 45, 50, 55, 60]\n"
     ]
    }
   ],
   "source": [
    "numbers=list(range(30, 65, 5)) \n",
    "print(numbers)"
   ]
  },
  {
   "cell_type": "code",
   "execution_count": 4,
   "id": "17af98e6",
   "metadata": {},
   "outputs": [
    {
     "data": {
      "text/plain": [
       "[60, 55, 50, 45, 40, 35, 30]"
      ]
     },
     "execution_count": 4,
     "metadata": {},
     "output_type": "execute_result"
    }
   ],
   "source": [
    "numbers = list(range(30, 65, 5))\n",
    "numbers.sort(reverse = True)\n",
    "numbers"
   ]
  },
  {
   "cell_type": "code",
   "execution_count": 25,
   "id": "9b0c512f",
   "metadata": {},
   "outputs": [
    {
     "data": {
      "text/plain": [
       "[65, 60, 55, 50, 45, 40, 35, 30]"
      ]
     },
     "execution_count": 25,
     "metadata": {},
     "output_type": "execute_result"
    }
   ],
   "source": [
    "numbers.append(65)\n",
    "numbers.sort(reverse = True)\n",
    "numbers"
   ]
  },
  {
   "cell_type": "code",
   "execution_count": 26,
   "id": "5ef878b6",
   "metadata": {},
   "outputs": [
    {
     "data": {
      "text/plain": [
       "[65, 65, 60, 55, 50, 45, 40, 35, 30]"
      ]
     },
     "execution_count": 26,
     "metadata": {},
     "output_type": "execute_result"
    }
   ],
   "source": [
    "numbers.insert(0,65)\n",
    "numbers"
   ]
  },
  {
   "cell_type": "code",
   "execution_count": 2,
   "id": "c62da0fb",
   "metadata": {},
   "outputs": [],
   "source": [
    "list = []"
   ]
  },
  {
   "cell_type": "code",
   "execution_count": 3,
   "id": "d63aa07d",
   "metadata": {},
   "outputs": [
    {
     "name": "stdout",
     "output_type": "stream",
     "text": [
      "[0, 1, 2, 3, 4, 5, 6, 7, 8, 9, 10, 11, 12, 13, 14, 15, 16, 17, 18, 19, 20]"
     ]
    }
   ],
   "source": [
    "for i in range(21):\n",
    "    list.append(i)\n",
    "print(list, end='')"
   ]
  },
  {
   "cell_type": "code",
   "execution_count": 4,
   "id": "b3b1a3c2",
   "metadata": {},
   "outputs": [
    {
     "data": {
      "text/plain": [
       "[1, 2, 3, 4, 5, 6, 7, 8, 9, 10, 11, 12, 13, 14, 15, 16, 17, 18, 19, 20]"
      ]
     },
     "execution_count": 4,
     "metadata": {},
     "output_type": "execute_result"
    }
   ],
   "source": [
    "list.remove(0)\n",
    "list"
   ]
  },
  {
   "cell_type": "code",
   "execution_count": 5,
   "id": "9d876232",
   "metadata": {},
   "outputs": [
    {
     "name": "stdout",
     "output_type": "stream",
     "text": [
      "20\n",
      "20\n",
      "1\n"
     ]
    }
   ],
   "source": [
    "print(len(list))\n",
    "print(max(list))\n",
    "print(min(list))"
   ]
  },
  {
   "cell_type": "code",
   "execution_count": 6,
   "id": "a3f06b88",
   "metadata": {},
   "outputs": [
    {
     "name": "stdout",
     "output_type": "stream",
     "text": [
      "210\n"
     ]
    }
   ],
   "source": [
    "print(sum(list))"
   ]
  },
  {
   "cell_type": "code",
   "execution_count": 7,
   "id": "fee79308",
   "metadata": {},
   "outputs": [
    {
     "data": {
      "text/plain": [
       "{'sunny': 'play', 'rainy': 'watch tv', 'cloudy': 'walk'}"
      ]
     },
     "execution_count": 7,
     "metadata": {},
     "output_type": "execute_result"
    }
   ],
   "source": [
    "weather = {'sunny': 'play','rainy':'watch tv','cloudy':'walk'}\n",
    "weather"
   ]
  },
  {
   "cell_type": "code",
   "execution_count": 9,
   "id": "3d3edf36",
   "metadata": {},
   "outputs": [
    {
     "name": "stdout",
     "output_type": "stream",
     "text": [
      "when it's sunny let's play\n",
      "when it's rainy let's watch tv\n",
      "when it's cloudy let's walk\n"
     ]
    }
   ],
   "source": [
    "for x in weather:\n",
    "    print(\"when it's {} let's {}\".format(x,weather[x]))"
   ]
  },
  {
   "cell_type": "code",
   "execution_count": 12,
   "id": "dcecdb8b",
   "metadata": {},
   "outputs": [
    {
     "data": {
      "text/plain": [
       "{'sunny': 'play', 'rainy': 'watch tv', 'cloudy': 'walk', 'snowy': 'ski'}"
      ]
     },
     "execution_count": 12,
     "metadata": {},
     "output_type": "execute_result"
    }
   ],
   "source": [
    "weather['snowy']= 'ski'\n",
    "weather"
   ]
  },
  {
   "cell_type": "code",
   "execution_count": 13,
   "id": "71313387",
   "metadata": {},
   "outputs": [
    {
     "name": "stdout",
     "output_type": "stream",
     "text": [
      "when it's sunny let's play\n",
      "when it's rainy let's watch tv\n",
      "when it's cloudy let's walk\n",
      "when it's snowy let's ski\n"
     ]
    }
   ],
   "source": [
    "for x in weather:\n",
    "    print(\"when it's {} let's {}\".format(x,weather[x]))"
   ]
  },
  {
   "cell_type": "code",
   "execution_count": null,
   "id": "4ef934f6",
   "metadata": {},
   "outputs": [],
   "source": []
  }
 ],
 "metadata": {
  "kernelspec": {
   "display_name": "Python 3 (ipykernel)",
   "language": "python",
   "name": "python3"
  },
  "language_info": {
   "codemirror_mode": {
    "name": "ipython",
    "version": 3
   },
   "file_extension": ".py",
   "mimetype": "text/x-python",
   "name": "python",
   "nbconvert_exporter": "python",
   "pygments_lexer": "ipython3",
   "version": "3.9.12"
  }
 },
 "nbformat": 4,
 "nbformat_minor": 5
}
